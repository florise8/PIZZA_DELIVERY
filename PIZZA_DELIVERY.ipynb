{
  "nbformat": 4,
  "nbformat_minor": 0,
  "metadata": {
    "colab": {
      "provenance": [],
      "toc_visible": true,
      "authorship_tag": "ABX9TyM3MuYISNNBTulbC4H0kkCu",
      "include_colab_link": true
    },
    "kernelspec": {
      "name": "python3",
      "display_name": "Python 3"
    },
    "language_info": {
      "name": "python"
    }
  },
  "cells": [
    {
      "cell_type": "markdown",
      "metadata": {
        "id": "view-in-github",
        "colab_type": "text"
      },
      "source": [
        "<a href=\"https://colab.research.google.com/github/florise8/PIZZA_DELIVERY/blob/main/PIZZA_DELIVERY.ipynb\" target=\"_parent\"><img src=\"https://colab.research.google.com/assets/colab-badge.svg\" alt=\"Open In Colab\"/></a>"
      ]
    },
    {
      "cell_type": "markdown",
      "source": [
        "#'Welcome to Python Pizza Deliveries'\n",
        "\n",
        " ``` Small Pizza: $15 ``` ```\n",
        "\n",
        "``` Medium Pizza: $20 ```\n",
        "\n",
        "``` Large Pizza: $25 ```\n",
        "\n",
        "If they want to add pepperoni :\n",
        "\n",
        "``` Pepperoni for Small Pizza: +$2 ```\n",
        "\n",
        "``` Pepperoni for Medium or Large Pizza: +$3 ```\n",
        "\n",
        "If they want cheese :\n",
        "\n",
        " ``` Extra cheese for any size pizza: + $1 ```\n",
        "\n",
        "\n",
        "Instructions\n",
        "\n",
        "#--Open a new file in your Python development environment or IDE.\n",
        "#--Add a line that prompts the user for the size of the pizza they want using the input() function and stores the user's input in a variable named 'size'.\n",
        "#--Add a line that prompts the user if they want pepperoni on their pizza using the input() function and stores the user's input in a variable named 'add_pepperoni'.\n",
        "#--Add a line that prompts the user if they want extra cheese on their pizza using the input() function and stores the user's input in a variable named 'extra_cheese'.\n",
        "#Check your code for any syntax errors or mistakes.\n",
        "#--Run the code and test it by providing inputs for size, pepperoni, and extra cheese.\n",
        "\n",
        "Example Input\n",
        "\n",
        "size = \"L\"\n",
        "\n",
        "add_pepperoni = \"Y\"\n",
        "\n",
        "extra_cheese = \"N\"\n",
        "\n",
        "Example Output\n",
        "\n",
        "Your final bill is: $28.\n",
        "\n",
        "When you hit **run**, this is what should happen"
      ],
      "metadata": {
        "id": "rAnfHiKGjKOD"
      }
    },
    {
      "cell_type": "code",
      "source": [
        "print('Welcome to Python Pizza Deliveries Services!')\n",
        "\n",
        "size = input('What size of pizza do you want? S, M, or L -')\n",
        "\n",
        "add_pepperoni = input('Do you want Perroni added to your Pizza? Y or N -')\n",
        "\n",
        "extra_cheese = input('Do you want extra Cheese on your Pizza? Y or N -')\n",
        "\n",
        "print('Small Pizza is: $15')\n",
        "\n",
        "print('Medium Pizza is: $20')\n",
        "\n",
        "print('Large Pizza is: $25')\n",
        "\n",
        "print('Extra Pepperoni for Small Pizza is: +$2')\n",
        "\n",
        "print('Extra Pepperoni for Medium or Large Pizza is: +$3')\n",
        "\n",
        "print('Extra cheese for any Pizza Size is: + $1')\n",
        "\n",
        "print('Your Final Bill is : $28')\n",
        "\n",
        "print('THANK YOU FOR PATRONIZING US')"
      ],
      "metadata": {
        "colab": {
          "base_uri": "https://localhost:8080/"
        },
        "id": "fGhc31DtpaWZ",
        "outputId": "d0277fef-2cee-47ca-bd4c-386e36db0519"
      },
      "execution_count": null,
      "outputs": [
        {
          "output_type": "stream",
          "name": "stdout",
          "text": [
            "Welcome to Python Pizza Deliveries Services!\n",
            "What size of pizza do you want? S, M, or L -L\n",
            "Do you want Perroni added to your Pizza? Y or N -Y\n",
            "Do you want extra Cheese on your Pizza? Y or N -N\n",
            "Small Pizza is: $15\n",
            "Medium Pizza is: $20\n",
            "Large Pizza is: $25\n",
            "Extra Pepperoni for Small Pizza is: +$2\n",
            "Extra Pepperoni for Medium or Large Pizza is: +$3\n",
            "Extra cheese for any Pizza Size is: + $1\n",
            "Your Final Bill is : $28\n",
            "THANK YOU FOR PATRONIZING US\n"
          ]
        }
      ]
    }
  ]
}